{
 "cells": [
  {
   "cell_type": "code",
   "execution_count": 3,
   "id": "2eb847d5",
   "metadata": {},
   "outputs": [
    {
     "name": "stdout",
     "output_type": "stream",
     "text": [
      "5 10.3\n"
     ]
    }
   ],
   "source": [
    "a= 5 \n",
    "b= 10.3\n",
    "print(a,b)"
   ]
  },
  {
   "cell_type": "code",
   "execution_count": 4,
   "id": "fa7eaff0",
   "metadata": {},
   "outputs": [
    {
     "data": {
      "text/plain": [
       "2.06"
      ]
     },
     "execution_count": 4,
     "metadata": {},
     "output_type": "execute_result"
    }
   ],
   "source": [
    "b/a #floor division"
   ]
  },
  {
   "cell_type": "code",
   "execution_count": 5,
   "id": "e83b4f39",
   "metadata": {},
   "outputs": [
    {
     "data": {
      "text/plain": [
       "2.0"
      ]
     },
     "execution_count": 5,
     "metadata": {},
     "output_type": "execute_result"
    }
   ],
   "source": [
    "b//a"
   ]
  },
  {
   "cell_type": "code",
   "execution_count": 6,
   "id": "24eef6ed",
   "metadata": {},
   "outputs": [
    {
     "data": {
      "text/plain": [
       "106.09000000000002"
      ]
     },
     "execution_count": 6,
     "metadata": {},
     "output_type": "execute_result"
    }
   ],
   "source": [
    "b**2 #exponent"
   ]
  },
  {
   "cell_type": "code",
   "execution_count": 7,
   "id": "e956554d",
   "metadata": {},
   "outputs": [
    {
     "data": {
      "text/plain": [
       "False"
      ]
     },
     "execution_count": 7,
     "metadata": {},
     "output_type": "execute_result"
    }
   ],
   "source": [
    "a==b"
   ]
  },
  {
   "cell_type": "code",
   "execution_count": 8,
   "id": "a71151a5",
   "metadata": {},
   "outputs": [
    {
     "data": {
      "text/plain": [
       "True"
      ]
     },
     "execution_count": 8,
     "metadata": {},
     "output_type": "execute_result"
    }
   ],
   "source": [
    "a>b #comparison\n",
    "b>a"
   ]
  },
  {
   "cell_type": "code",
   "execution_count": 9,
   "id": "f3901e93",
   "metadata": {},
   "outputs": [
    {
     "data": {
      "text/plain": [
       "False"
      ]
     },
     "execution_count": 9,
     "metadata": {},
     "output_type": "execute_result"
    }
   ],
   "source": [
    "x = 10\n",
    "y = 5\n",
    "z = 15\n",
    "x == y and y ==z # Logical"
   ]
  },
  {
   "cell_type": "code",
   "execution_count": 10,
   "id": "cf2cad3d",
   "metadata": {},
   "outputs": [
    {
     "data": {
      "text/plain": [
       "False"
      ]
     },
     "execution_count": 10,
     "metadata": {},
     "output_type": "execute_result"
    }
   ],
   "source": [
    "x ==y or y == z"
   ]
  },
  {
   "cell_type": "markdown",
   "id": "a071c804",
   "metadata": {},
   "source": [
    "membership\n"
   ]
  },
  {
   "cell_type": "code",
   "execution_count": 11,
   "id": "c9120b9a",
   "metadata": {},
   "outputs": [
    {
     "data": {
      "text/plain": [
       "True"
      ]
     },
     "execution_count": 11,
     "metadata": {},
     "output_type": "execute_result"
    }
   ],
   "source": [
    "\"desh\" in \"bangladesh\""
   ]
  },
  {
   "cell_type": "code",
   "execution_count": 12,
   "id": "9f0cec8a",
   "metadata": {},
   "outputs": [
    {
     "data": {
      "text/plain": [
       "True"
      ]
     },
     "execution_count": 12,
     "metadata": {},
     "output_type": "execute_result"
    }
   ],
   "source": [
    "\"gla\" in 'Bangladesh'"
   ]
  },
  {
   "cell_type": "markdown",
   "id": "a7195b67",
   "metadata": {},
   "source": [
    "Identity"
   ]
  },
  {
   "cell_type": "code",
   "execution_count": 13,
   "id": "d7647f84",
   "metadata": {},
   "outputs": [
    {
     "data": {
      "text/plain": [
       "False"
      ]
     },
     "execution_count": 13,
     "metadata": {},
     "output_type": "execute_result"
    }
   ],
   "source": [
    "a is b"
   ]
  },
  {
   "cell_type": "markdown",
   "id": "3bbb7988",
   "metadata": {},
   "source": [
    "Data structure"
   ]
  },
  {
   "cell_type": "code",
   "execution_count": 14,
   "id": "75c150dd",
   "metadata": {},
   "outputs": [
    {
     "data": {
      "text/plain": [
       "'Buet'"
      ]
     },
     "execution_count": 14,
     "metadata": {},
     "output_type": "execute_result"
    }
   ],
   "source": [
    "#list\n",
    "List_1= ['Buet', \"Ewu\",\"ruet\", \"kuet\"]\n",
    "List_2 = [1,2,3,4]\n",
    "List_1[0]"
   ]
  },
  {
   "cell_type": "markdown",
   "id": "7ed74d13",
   "metadata": {},
   "source": [
    "# Slicing\n"
   ]
  },
  {
   "cell_type": "code",
   "execution_count": 15,
   "id": "b5e4f77d",
   "metadata": {},
   "outputs": [
    {
     "data": {
      "text/plain": [
       "['Buet', 'Ewu', 'ruet', 'kuet']"
      ]
     },
     "execution_count": 15,
     "metadata": {},
     "output_type": "execute_result"
    }
   ],
   "source": [
    "List_1[0:]"
   ]
  },
  {
   "cell_type": "code",
   "execution_count": 16,
   "id": "f840c1be",
   "metadata": {},
   "outputs": [
    {
     "data": {
      "text/plain": [
       "['Ewu', 'ruet', 'kuet']"
      ]
     },
     "execution_count": 16,
     "metadata": {},
     "output_type": "execute_result"
    }
   ],
   "source": [
    "List_1[1:]"
   ]
  },
  {
   "cell_type": "code",
   "execution_count": 17,
   "id": "9f91f0cd",
   "metadata": {},
   "outputs": [
    {
     "data": {
      "text/plain": [
       "['Buet', 'Ewu', 'ruet']"
      ]
     },
     "execution_count": 17,
     "metadata": {},
     "output_type": "execute_result"
    }
   ],
   "source": [
    "List_1[:3]"
   ]
  },
  {
   "cell_type": "code",
   "execution_count": 19,
   "id": "6bb0b298",
   "metadata": {},
   "outputs": [
    {
     "data": {
      "text/plain": [
       "['Buet', 'Ewu', 'ruet', 'kuet', 'nsu', 'nsu']"
      ]
     },
     "execution_count": 19,
     "metadata": {},
     "output_type": "execute_result"
    }
   ],
   "source": [
    "#List Update\n",
    "List_1.append('nsu')\n",
    "List_1"
   ]
  },
  {
   "cell_type": "code",
   "execution_count": 24,
   "id": "ad18cae7",
   "metadata": {},
   "outputs": [
    {
     "data": {
      "text/plain": [
       "['Buet', 'Ewu', 'cuet', 'cuet', 'cuet', 'cuet', 'ruet', 'kuet', 'nsu', 'nsu']"
      ]
     },
     "execution_count": 24,
     "metadata": {},
     "output_type": "execute_result"
    }
   ],
   "source": [
    "List_1.insert(2,'cuet')\n",
    "\n",
    "List_1"
   ]
  },
  {
   "cell_type": "code",
   "execution_count": 27,
   "id": "f3d9839d",
   "metadata": {},
   "outputs": [],
   "source": [
    "List_1.insert(3,\"brac\")"
   ]
  },
  {
   "cell_type": "code",
   "execution_count": 28,
   "id": "35f4bc8f",
   "metadata": {},
   "outputs": [
    {
     "data": {
      "text/plain": [
       "['Buet',\n",
       " 'Ewu',\n",
       " 'cuet',\n",
       " 'brac',\n",
       " 'brac',\n",
       " 'brac',\n",
       " 'brac',\n",
       " 'cuet',\n",
       " 'cuet',\n",
       " 'cuet',\n",
       " 'ruet',\n",
       " 'kuet',\n",
       " 'nsu',\n",
       " 'nsu']"
      ]
     },
     "execution_count": 28,
     "metadata": {},
     "output_type": "execute_result"
    }
   ],
   "source": [
    "List_1.insert(3,\"brac\")\n",
    "List_1"
   ]
  },
  {
   "cell_type": "code",
   "execution_count": 32,
   "id": "7edd0ffd",
   "metadata": {},
   "outputs": [
    {
     "ename": "TypeError",
     "evalue": "'builtin_function_or_method' object is not subscriptable",
     "output_type": "error",
     "traceback": [
      "\u001b[1;31m---------------------------------------------------------------------------\u001b[0m",
      "\u001b[1;31mTypeError\u001b[0m                                 Traceback (most recent call last)",
      "Cell \u001b[1;32mIn[32], line 1\u001b[0m\n\u001b[1;32m----> 1\u001b[0m \u001b[43mList_1\u001b[49m\u001b[38;5;241;43m.\u001b[39;49m\u001b[43mextend\u001b[49m\u001b[43m[\u001b[49m\u001b[43m(\u001b[49m\u001b[38;5;241;43m100\u001b[39;49m\u001b[43m,\u001b[49m\u001b[38;5;241;43m20\u001b[39;49m\u001b[43m)\u001b[49m\u001b[43m]\u001b[49m\n",
      "\u001b[1;31mTypeError\u001b[0m: 'builtin_function_or_method' object is not subscriptable"
     ]
    }
   ],
   "source": [
    "List_1.extend[(100,20)]"
   ]
  },
  {
   "cell_type": "markdown",
   "id": "fe34cf5a",
   "metadata": {},
   "source": [
    "#Remove items\n",
    "\n",
    "\n",
    "del List_1[7:]\n",
    "List_1"
   ]
  },
  {
   "cell_type": "code",
   "execution_count": 35,
   "id": "a17ca3af",
   "metadata": {},
   "outputs": [
    {
     "data": {
      "text/plain": [
       "['Buet', 'Ewu', 'cuet', 'brac', 'brac', 'brac']"
      ]
     },
     "execution_count": 35,
     "metadata": {},
     "output_type": "execute_result"
    }
   ],
   "source": [
    "List_1.remove(\"brac\")\n",
    "List_1"
   ]
  },
  {
   "cell_type": "code",
   "execution_count": 38,
   "id": "07d04183",
   "metadata": {},
   "outputs": [
    {
     "data": {
      "text/plain": [
       "['Ewu', 'brac', 'brac']"
      ]
     },
     "execution_count": 38,
     "metadata": {},
     "output_type": "execute_result"
    }
   ],
   "source": [
    "del List_1[-4]\n",
    "List_1"
   ]
  },
  {
   "cell_type": "code",
   "execution_count": 39,
   "id": "588e68b5",
   "metadata": {},
   "outputs": [
    {
     "data": {
      "text/plain": [
       "'brac'"
      ]
     },
     "execution_count": 39,
     "metadata": {},
     "output_type": "execute_result"
    }
   ],
   "source": [
    "List_1.pop()"
   ]
  },
  {
   "cell_type": "code",
   "execution_count": null,
   "id": "9ddfb1ed",
   "metadata": {},
   "outputs": [],
   "source": [
    "#####Sorting\n",
    "list_3 = [4,7,15,20,21]\n",
    "sorted(list_3)"
   ]
  },
  {
   "cell_type": "markdown",
   "id": "c13d0a80",
   "metadata": {},
   "source": [
    "Dictonary"
   ]
  },
  {
   "cell_type": "code",
   "execution_count": 50,
   "id": "ec1fdedb",
   "metadata": {},
   "outputs": [
    {
     "ename": "SyntaxError",
     "evalue": "cannot assign to literal here. Maybe you meant '==' instead of '='? (1417160962.py, line 1)",
     "output_type": "error",
     "traceback": [
      "\u001b[1;36m  Cell \u001b[1;32mIn[50], line 1\u001b[1;36m\u001b[0m\n\u001b[1;33m    Dict = {'b'='buet','c'='cuet','k'='kuet','n'='nsu'}\u001b[0m\n\u001b[1;37m            ^\u001b[0m\n\u001b[1;31mSyntaxError\u001b[0m\u001b[1;31m:\u001b[0m cannot assign to literal here. Maybe you meant '==' instead of '='?\n"
     ]
    }
   ],
   "source": [
    "Dict = {'b'='buet','c'='cuet','k'='kuet','n'='nsu'} # it will be clone(:) not equal(=)\n",
    "dict[\"k\"]"
   ]
  },
  {
   "cell_type": "code",
   "execution_count": 53,
   "id": "be704566",
   "metadata": {},
   "outputs": [
    {
     "data": {
      "text/plain": [
       "'kuet'"
      ]
     },
     "execution_count": 53,
     "metadata": {},
     "output_type": "execute_result"
    }
   ],
   "source": [
    "Dict = {'b':'buet','c':'cuet','k':'kuet','n':'nsu'}\n",
    "Dict[\"k\"]"
   ]
  },
  {
   "cell_type": "code",
   "execution_count": 55,
   "id": "2a4835a4",
   "metadata": {},
   "outputs": [
    {
     "data": {
      "text/plain": [
       "{'b': 'buet', 'c': 'cuet', 'k': 'kuet', 'n': 'nsu', 'E': 'Ewu'}"
      ]
     },
     "execution_count": 55,
     "metadata": {},
     "output_type": "execute_result"
    }
   ],
   "source": [
    "Dict['E'] = \"Ewu\"\n",
    "Dict"
   ]
  },
  {
   "cell_type": "code",
   "execution_count": 56,
   "id": "935ed284",
   "metadata": {},
   "outputs": [
    {
     "data": {
      "text/plain": [
       "dict_keys(['b', 'c', 'k', 'n', 'E'])"
      ]
     },
     "execution_count": 56,
     "metadata": {},
     "output_type": "execute_result"
    }
   ],
   "source": [
    "Dict.keys()"
   ]
  },
  {
   "cell_type": "code",
   "execution_count": 57,
   "id": "16e78273",
   "metadata": {},
   "outputs": [
    {
     "data": {
      "text/plain": [
       "dict_values(['buet', 'cuet', 'kuet', 'nsu', 'Ewu'])"
      ]
     },
     "execution_count": 57,
     "metadata": {},
     "output_type": "execute_result"
    }
   ],
   "source": [
    "Dict.values()\n"
   ]
  },
  {
   "cell_type": "markdown",
   "id": "87d7a256",
   "metadata": {},
   "source": [
    "SET "
   ]
  },
  {
   "cell_type": "code",
   "execution_count": 2,
   "id": "2d5b633e",
   "metadata": {},
   "outputs": [
    {
     "data": {
      "text/plain": [
       "{1, 2, 6, 7, 8, 9}"
      ]
     },
     "execution_count": 2,
     "metadata": {},
     "output_type": "execute_result"
    }
   ],
   "source": [
    "s= {1,2,6,6,6,7,8,9} #duplicate will be deleted automatically and sorting too. but must \"{}\".\n",
    "s"
   ]
  },
  {
   "cell_type": "markdown",
   "id": "88e24e2e",
   "metadata": {},
   "source": [
    "String"
   ]
  },
  {
   "cell_type": "code",
   "execution_count": 5,
   "id": "2ab180a5",
   "metadata": {},
   "outputs": [
    {
     "data": {
      "text/plain": [
       "\"Bangladesh is 'love'.\""
      ]
     },
     "execution_count": 5,
     "metadata": {},
     "output_type": "execute_result"
    }
   ],
   "source": [
    "# we will use double cottation.\n",
    "String= \"Bangladesh is 'love'.\"\n",
    "String"
   ]
  },
  {
   "cell_type": "code",
   "execution_count": 14,
   "id": "8776c019",
   "metadata": {},
   "outputs": [
    {
     "data": {
      "text/plain": [
       "\"Bangladesh is 'LOVE'. I love her.\""
      ]
     },
     "execution_count": 14,
     "metadata": {},
     "output_type": "execute_result"
    }
   ],
   "source": [
    "string = 'Bangladesh is \\'LOVE\\'. I love her.' # can be write in both way\n",
    "string"
   ]
  },
  {
   "cell_type": "code",
   "execution_count": 11,
   "id": "3b8cbf3c",
   "metadata": {},
   "outputs": [
    {
     "name": "stdout",
     "output_type": "stream",
     "text": [
      "Bangladesh is 'LOVE'.  I love her.\n"
     ]
    }
   ],
   "source": [
    "#for create new line \n",
    "print(\"Bangladesh is 'LOVE'.\", end=\" \")\n",
    "print(\" I love her.\")"
   ]
  },
  {
   "cell_type": "code",
   "execution_count": 30,
   "id": "b35602f6",
   "metadata": {},
   "outputs": [
    {
     "name": "stdout",
     "output_type": "stream",
     "text": [
      "Bangladesh is 'Love'.\ti love her\n"
     ]
    }
   ],
   "source": [
    "print(\"Bangladesh is 'Love'.\", end='\\t')\n",
    "print(\"i love her\")"
   ]
  },
  {
   "cell_type": "code",
   "execution_count": 27,
   "id": "bf9d4e44",
   "metadata": {},
   "outputs": [
    {
     "name": "stdout",
     "output_type": "stream",
     "text": [
      "Bangladesh is 'LOVE.\t I love her.\n"
     ]
    }
   ],
   "source": [
    "print(\"Bangladesh is 'LOVE.\", end=\"\\t\")\n",
    "print(\" I love her.\")"
   ]
  },
  {
   "cell_type": "code",
   "execution_count": 31,
   "id": "44057ed2",
   "metadata": {},
   "outputs": [
    {
     "data": {
      "text/plain": [
       "'angla'"
      ]
     },
     "execution_count": 31,
     "metadata": {},
     "output_type": "execute_result"
    }
   ],
   "source": [
    "String[1:6]"
   ]
  },
  {
   "cell_type": "code",
   "execution_count": 32,
   "id": "92b4dbb8",
   "metadata": {},
   "outputs": [
    {
     "data": {
      "text/plain": [
       "'desh os /love/.'"
      ]
     },
     "execution_count": 32,
     "metadata": {},
     "output_type": "execute_result"
    }
   ],
   "source": [
    "String2[6:]"
   ]
  },
  {
   "cell_type": "markdown",
   "id": "f1705ac9",
   "metadata": {},
   "source": [
    "Use of \"F\""
   ]
  },
  {
   "cell_type": "code",
   "execution_count": 34,
   "id": "12dd4130",
   "metadata": {},
   "outputs": [
    {
     "name": "stdout",
     "output_type": "stream",
     "text": [
      "area of bd is 147570 sq km\n"
     ]
    }
   ],
   "source": [
    "# we can put all variable in one line.\n",
    "n= 147570\n",
    "string3= \"area of bd is\"\n",
    "print(string3,n,\"sq km\")"
   ]
  },
  {
   "cell_type": "code",
   "execution_count": 36,
   "id": "72e9f68a",
   "metadata": {},
   "outputs": [
    {
     "name": "stdout",
     "output_type": "stream",
     "text": [
      "area of bd is 147570 sqkm\n"
     ]
    }
   ],
   "source": [
    "#However we can put them in one code. it will read only value.\n",
    "print(f\"{string3} {n} sqkm\")"
   ]
  },
  {
   "cell_type": "markdown",
   "id": "b2ea1715",
   "metadata": {},
   "source": [
    "Split"
   ]
  },
  {
   "cell_type": "code",
   "execution_count": 43,
   "id": "76d033c1",
   "metadata": {},
   "outputs": [
    {
     "data": {
      "text/plain": [
       "'Bangla desh'"
      ]
     },
     "execution_count": 43,
     "metadata": {},
     "output_type": "execute_result"
    }
   ],
   "source": [
    "s1=\"Bangla \"\n",
    "S2 = \"desh\"\n",
    "Country= (s1+S2)\n",
    "Country"
   ]
  },
  {
   "cell_type": "code",
   "execution_count": 47,
   "id": "4e6cd5ec",
   "metadata": {},
   "outputs": [
    {
     "ename": "AttributeError",
     "evalue": "'str' object has no attribute 'len'",
     "output_type": "error",
     "traceback": [
      "\u001b[1;31m---------------------------------------------------------------------------\u001b[0m",
      "\u001b[1;31mAttributeError\u001b[0m                            Traceback (most recent call last)",
      "Cell \u001b[1;32mIn[47], line 1\u001b[0m\n\u001b[1;32m----> 1\u001b[0m \u001b[43mCountry\u001b[49m\u001b[38;5;241;43m.\u001b[39;49m\u001b[43mlen\u001b[49m()\n",
      "\u001b[1;31mAttributeError\u001b[0m: 'str' object has no attribute 'len'"
     ]
    }
   ],
   "source": [
    "Country.len()"
   ]
  },
  {
   "cell_type": "code",
   "execution_count": 52,
   "id": "e8a55b61",
   "metadata": {},
   "outputs": [
    {
     "data": {
      "text/plain": [
       "['B', 'ngl', ' desh']"
      ]
     },
     "execution_count": 52,
     "metadata": {},
     "output_type": "execute_result"
    }
   ],
   "source": [
    "Country.split('a')"
   ]
  },
  {
   "cell_type": "markdown",
   "id": "86f83ecf",
   "metadata": {},
   "source": [
    "For Searching"
   ]
  },
  {
   "cell_type": "code",
   "execution_count": 53,
   "id": "3c854949",
   "metadata": {},
   "outputs": [
    {
     "data": {
      "text/plain": [
       "8"
      ]
     },
     "execution_count": 53,
     "metadata": {},
     "output_type": "execute_result"
    }
   ],
   "source": [
    "Country.find(\"esh\")"
   ]
  },
  {
   "cell_type": "code",
   "execution_count": null,
   "id": "6deeb3ea",
   "metadata": {},
   "outputs": [],
   "source": []
  }
 ],
 "metadata": {
  "kernelspec": {
   "display_name": "Python 3 (ipykernel)",
   "language": "python",
   "name": "python3"
  },
  "language_info": {
   "codemirror_mode": {
    "name": "ipython",
    "version": 3
   },
   "file_extension": ".py",
   "mimetype": "text/x-python",
   "name": "python",
   "nbconvert_exporter": "python",
   "pygments_lexer": "ipython3",
   "version": "3.10.10"
  }
 },
 "nbformat": 4,
 "nbformat_minor": 5
}
