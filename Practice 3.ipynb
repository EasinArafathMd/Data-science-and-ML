{
 "cells": [
  {
   "cell_type": "code",
   "execution_count": 2,
   "id": "065afa53",
   "metadata": {},
   "outputs": [
    {
     "data": {
      "text/plain": [
       "'banglawash'"
      ]
     },
     "execution_count": 2,
     "metadata": {},
     "output_type": "execute_result"
    }
   ],
   "source": [
    "# new line\n",
    "s1= 'bangla'\n",
    "s2= \"wash\"\n",
    "washed= s1+s2\n",
    "washed"
   ]
  },
  {
   "cell_type": "code",
   "execution_count": 4,
   "id": "2e03c60f",
   "metadata": {},
   "outputs": [
    {
     "data": {
      "text/plain": [
       "10"
      ]
     },
     "execution_count": 4,
     "metadata": {},
     "output_type": "execute_result"
    }
   ],
   "source": [
    "len(washed)"
   ]
  },
  {
   "cell_type": "code",
   "execution_count": 5,
   "id": "23a48c68",
   "metadata": {},
   "outputs": [
    {
     "data": {
      "text/plain": [
       "['b', 'ngl', 'w', 'sh']"
      ]
     },
     "execution_count": 5,
     "metadata": {},
     "output_type": "execute_result"
    }
   ],
   "source": [
    "washed.split(\"a\")"
   ]
  },
  {
   "cell_type": "code",
   "execution_count": null,
   "id": "289480f5",
   "metadata": {},
   "outputs": [],
   "source": []
  }
 ],
 "metadata": {
  "kernelspec": {
   "display_name": "Python 3 (ipykernel)",
   "language": "python",
   "name": "python3"
  },
  "language_info": {
   "codemirror_mode": {
    "name": "ipython",
    "version": 3
   },
   "file_extension": ".py",
   "mimetype": "text/x-python",
   "name": "python",
   "nbconvert_exporter": "python",
   "pygments_lexer": "ipython3",
   "version": "3.10.10"
  }
 },
 "nbformat": 4,
 "nbformat_minor": 5
}
